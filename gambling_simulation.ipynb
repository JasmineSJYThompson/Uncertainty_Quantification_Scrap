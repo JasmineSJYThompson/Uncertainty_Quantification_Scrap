{
 "cells": [
  {
   "cell_type": "code",
   "execution_count": 373,
   "id": "2b26433c-6477-48f6-a392-11a0609b0f83",
   "metadata": {},
   "outputs": [],
   "source": [
    "import numpy as np"
   ]
  },
  {
   "cell_type": "code",
   "execution_count": 374,
   "id": "b9538197-a737-496b-8de1-5ba10b88ca0b",
   "metadata": {},
   "outputs": [],
   "source": [
    "number_samples = 100000\n",
    "number_rolls = 50"
   ]
  },
  {
   "cell_type": "code",
   "execution_count": 375,
   "id": "5bacbfbd-8476-4a9a-bba2-d0006878104f",
   "metadata": {},
   "outputs": [],
   "source": [
    "number_wins = np.array([np.random.binomial(number_rolls, 0.02) for i in range(number_samples)])"
   ]
  },
  {
   "cell_type": "code",
   "execution_count": 376,
   "id": "fcbcf83b-0735-485b-a9df-3698f3cdf739",
   "metadata": {},
   "outputs": [],
   "source": [
    "def both_boys(number_tries):\n",
    "    one = False\n",
    "    for i in range(number_tries):\n",
    "        if one == False:\n",
    "            if np.random.uniform() <= 1/8:\n",
    "                one = True\n",
    "        else:\n",
    "            if np.random.uniform() <= 2/8:\n",
    "                return True\n",
    "    return False"
   ]
  },
  {
   "cell_type": "code",
   "execution_count": 377,
   "id": "858c48f6-17c8-4ade-9f08-98c76c446896",
   "metadata": {},
   "outputs": [
    {
     "data": {
      "text/plain": [
       "0.0133"
      ]
     },
     "execution_count": 377,
     "metadata": {},
     "output_type": "execute_result"
    }
   ],
   "source": [
    "prob_success = np.mean(np.array([both_boys(number) for number in number_wins]))\n",
    "prob_success"
   ]
  },
  {
   "cell_type": "code",
   "execution_count": 378,
   "id": "0bc9a6d7-4fdb-4bf4-9bcd-ac5d68ce118c",
   "metadata": {},
   "outputs": [
    {
     "data": {
      "text/plain": [
       "75.18796992481204"
      ]
     },
     "execution_count": 378,
     "metadata": {},
     "output_type": "execute_result"
    }
   ],
   "source": [
    "number_trials = 1/prob_success\n",
    "number_trials"
   ]
  },
  {
   "cell_type": "code",
   "execution_count": 379,
   "id": "614b6b98-1e5d-4f5b-b62f-fd2f3aaceedb",
   "metadata": {},
   "outputs": [],
   "source": [
    "# Redo with probability of getting just one"
   ]
  },
  {
   "cell_type": "code",
   "execution_count": 392,
   "id": "24c88c87-f805-421b-b9e5-2906680c9456",
   "metadata": {},
   "outputs": [],
   "source": [
    "number_samples = 100000\n",
    "number_rolls = 50"
   ]
  },
  {
   "cell_type": "code",
   "execution_count": 393,
   "id": "fd82f065-1f80-4f5c-9550-40b0f520f7dc",
   "metadata": {},
   "outputs": [],
   "source": [
    "number_wins = np.array([np.random.binomial(number_rolls, 0.02) for i in range(number_samples)])"
   ]
  },
  {
   "cell_type": "code",
   "execution_count": 394,
   "id": "4b978b2e-7bea-4e30-8542-d069f3419fec",
   "metadata": {},
   "outputs": [],
   "source": [
    "def get_blade(number_tries):\n",
    "    for i in range(number_tries):\n",
    "        if np.random.uniform() <= 2/8:\n",
    "                return True\n",
    "    return False"
   ]
  },
  {
   "cell_type": "code",
   "execution_count": 395,
   "id": "f1dccf91-c3be-462c-9818-e15893669982",
   "metadata": {},
   "outputs": [
    {
     "data": {
      "text/plain": [
       "0.22199"
      ]
     },
     "execution_count": 395,
     "metadata": {},
     "output_type": "execute_result"
    }
   ],
   "source": [
    "prob_success = np.mean(np.array([get_blade(number) for number in number_wins]))\n",
    "prob_success"
   ]
  },
  {
   "cell_type": "code",
   "execution_count": 396,
   "id": "82005589-c015-4c94-b3f9-b2d1211c96ff",
   "metadata": {},
   "outputs": [
    {
     "data": {
      "text/plain": [
       "4.50470741925312"
      ]
     },
     "execution_count": 396,
     "metadata": {},
     "output_type": "execute_result"
    }
   ],
   "source": [
    "number_trials = 1/prob_success\n",
    "number_trials"
   ]
  },
  {
   "cell_type": "code",
   "execution_count": 385,
   "id": "7823a05f-c945-49f3-91d6-741062a2a17b",
   "metadata": {},
   "outputs": [],
   "source": [
    "# Get either both boys or Blade"
   ]
  },
  {
   "cell_type": "code",
   "execution_count": 386,
   "id": "2861fa43-8b22-4ba1-979d-b59d9e3b8191",
   "metadata": {},
   "outputs": [],
   "source": [
    "number_samples = 100000\n",
    "number_rolls = 50"
   ]
  },
  {
   "cell_type": "code",
   "execution_count": 387,
   "id": "629814de-812f-4570-b035-efe0043f2477",
   "metadata": {},
   "outputs": [],
   "source": [
    "number_wins = np.array([np.random.binomial(number_rolls, 0.02) for i in range(number_samples)])"
   ]
  },
  {
   "cell_type": "code",
   "execution_count": 388,
   "id": "8a030e73-22df-435a-a02b-a072890fca9c",
   "metadata": {},
   "outputs": [],
   "source": [
    "def get_either(number_tries):\n",
    "    one = False\n",
    "    for i in range(number_tries):\n",
    "        if one == False:\n",
    "            if np.random.uniform() <= 1/8:\n",
    "                one = True\n",
    "        else:\n",
    "            if np.random.uniform() <= 2/8:\n",
    "                return True\n",
    "        if np.random.uniform() <= 1/8:\n",
    "                return True\n",
    "    return False"
   ]
  },
  {
   "cell_type": "code",
   "execution_count": 389,
   "id": "4f04f24c-6abd-460f-8445-1a16297fea63",
   "metadata": {},
   "outputs": [
    {
     "data": {
      "text/plain": [
       "0.12672"
      ]
     },
     "execution_count": 389,
     "metadata": {},
     "output_type": "execute_result"
    }
   ],
   "source": [
    "prob_success = np.mean(np.array([get_either(number) for number in number_wins]))\n",
    "prob_success"
   ]
  },
  {
   "cell_type": "code",
   "execution_count": 390,
   "id": "f9e1e504-8229-43c5-91c0-f246317c9fa9",
   "metadata": {},
   "outputs": [
    {
     "data": {
      "text/plain": [
       "7.891414141414142"
      ]
     },
     "execution_count": 390,
     "metadata": {},
     "output_type": "execute_result"
    }
   ],
   "source": [
    "number_trials = 1/prob_success\n",
    "number_trials"
   ]
  },
  {
   "cell_type": "code",
   "execution_count": 391,
   "id": "55e1fc72-ea4f-4025-8da1-f52674698472",
   "metadata": {},
   "outputs": [
    {
     "data": {
      "text/plain": [
       "2.6666666666666665"
      ]
     },
     "execution_count": 391,
     "metadata": {},
     "output_type": "execute_result"
    }
   ],
   "source": [
    "160/60"
   ]
  },
  {
   "cell_type": "code",
   "execution_count": 302,
   "id": "bfbfab6f-70a3-416e-9b84-2eb8156918a0",
   "metadata": {},
   "outputs": [
    {
     "data": {
      "text/plain": [
       "1"
      ]
     },
     "execution_count": 302,
     "metadata": {},
     "output_type": "execute_result"
    }
   ],
   "source": [
    "np.random.choice([0, 1])"
   ]
  },
  {
   "cell_type": "code",
   "execution_count": null,
   "id": "edfea1cd-9600-44ea-96a9-cd9fb9c34783",
   "metadata": {},
   "outputs": [],
   "source": []
  }
 ],
 "metadata": {
  "kernelspec": {
   "display_name": "Python [conda env:uncertainty_quant]",
   "language": "python",
   "name": "conda-env-uncertainty_quant-py"
  },
  "language_info": {
   "codemirror_mode": {
    "name": "ipython",
    "version": 3
   },
   "file_extension": ".py",
   "mimetype": "text/x-python",
   "name": "python",
   "nbconvert_exporter": "python",
   "pygments_lexer": "ipython3",
   "version": "3.12.1"
  }
 },
 "nbformat": 4,
 "nbformat_minor": 5
}
